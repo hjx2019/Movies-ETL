{
 "cells": [
  {
   "cell_type": "code",
   "execution_count": null,
   "id": "4620f1a0",
   "metadata": {},
   "outputs": [],
   "source": [
    "import json\n",
    "import pandas as pd\n",
    "import numpy as np"
   ]
  },
  {
   "cell_type": "code",
   "execution_count": null,
   "id": "1afae1ee",
   "metadata": {},
   "outputs": [],
   "source": [
    "file_dir = 'C://Users/Username/DataBootcamp/'\n",
    "\n",
    "f'{file_dir}filename'"
   ]
  }
 ],
 "metadata": {
  "kernelspec": {
   "display_name": "PythonData",
   "language": "python",
   "name": "pythondata"
  },
  "language_info": {
   "codemirror_mode": {
    "name": "ipython",
    "version": 3
   },
   "file_extension": ".py",
   "mimetype": "text/x-python",
   "name": "python",
   "nbconvert_exporter": "python",
   "pygments_lexer": "ipython3",
   "version": "3.7.10"
  }
 },
 "nbformat": 4,
 "nbformat_minor": 5
}
